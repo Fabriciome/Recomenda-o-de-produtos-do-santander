{
  "nbformat": 4,
  "nbformat_minor": 0,
  "metadata": {
    "colab": {
      "name": "santander_data_saprk.ipynb",
      "provenance": [],
      "mount_file_id": "1zbpiuNagG_gxmDs9PjYiL9uqQXvEDQbm",
      "authorship_tag": "ABX9TyMPorwKNjygWzTCKIiZ5OC/",
      "include_colab_link": true
    },
    "kernelspec": {
      "name": "python3",
      "display_name": "Python 3"
    },
    "language_info": {
      "name": "python"
    }
  },
  "cells": [
    {
      "cell_type": "markdown",
      "metadata": {
        "id": "view-in-github",
        "colab_type": "text"
      },
      "source": [
        "<a href=\"https://colab.research.google.com/github/Matthwhy/Recomenda-o-de-produtos-do-santander/blob/main/santander_data_spark.ipynb\" target=\"_parent\"><img src=\"https://colab.research.google.com/assets/colab-badge.svg\" alt=\"Open In Colab\"/></a>"
      ]
    },
    {
      "cell_type": "code",
      "source": [
        "!pip install pyspark"
      ],
      "metadata": {
        "colab": {
          "base_uri": "https://localhost:8080/"
        },
        "id": "DxGxt_2pZYQC",
        "outputId": "280ec42b-4069-4131-828a-d386e8312905"
      },
      "execution_count": 10,
      "outputs": [
        {
          "output_type": "stream",
          "name": "stdout",
          "text": [
            "Looking in indexes: https://pypi.org/simple, https://us-python.pkg.dev/colab-wheels/public/simple/\n",
            "Requirement already satisfied: pyspark in /usr/local/lib/python3.7/dist-packages (3.3.0)\n",
            "Requirement already satisfied: py4j==0.10.9.5 in /usr/local/lib/python3.7/dist-packages (from pyspark) (0.10.9.5)\n"
          ]
        }
      ]
    },
    {
      "cell_type": "code",
      "source": [
        "from pyspark.sql import SparkSession\n",
        "  \n",
        "spark = SparkSession.builder.getOrCreate()"
      ],
      "metadata": {
        "id": "PnVIuKL4acHZ"
      },
      "execution_count": 8,
      "outputs": []
    },
    {
      "cell_type": "code",
      "source": [
        "df_train = spark.read.format(\"csv\")\\\n",
        ".option(\"header\", \"True\")\\\n",
        ".option(\"inferSchema\",\"True\")\\\n",
        ".load(\"/content/drive/MyDrive/Colab Notebooks/basest/train_ver2.csv\")"
      ],
      "metadata": {
        "id": "DhVXfg4La4CO"
      },
      "execution_count": 9,
      "outputs": []
    },
    {
      "cell_type": "code",
      "source": [
        "df_train.show()"
      ],
      "metadata": {
        "colab": {
          "base_uri": "https://localhost:8080/"
        },
        "id": "sQ-jQEk9bzJI",
        "outputId": "92a95611-7f75-4cc5-8d71-ffcd16e4dd30"
      },
      "execution_count": 12,
      "outputs": [
        {
          "output_type": "stream",
          "name": "stdout",
          "text": [
            "+-------------------+---------+------------+---------------+----+---+-------------------+---------+----------+------+--------------+-----------+-----------+-------+------+--------+-------------+-------+-------+--------+-----------+---------------------+------------------+------------------+-----------------+-----------------+----------------+-----------------+----------------+-----------------+-----------------+-----------------+-----------------+-----------------+-----------------+-----------------+-----------------+-----------------+----------------+-----------------+-----------------+-----------------+-----------------+-----------------+----------------+---------------+-----------------+---------------+\n",
            "|         fecha_dato| ncodpers|ind_empleado|pais_residencia|sexo|age|         fecha_alta|ind_nuevo|antiguedad|indrel|ult_fec_cli_1t|indrel_1mes|tiprel_1mes|indresi|indext|conyuemp|canal_entrada|indfall|tipodom|cod_prov|    nomprov|ind_actividad_cliente|             renta|          segmento|ind_ahor_fin_ult1|ind_aval_fin_ult1|ind_cco_fin_ult1|ind_cder_fin_ult1|ind_cno_fin_ult1|ind_ctju_fin_ult1|ind_ctma_fin_ult1|ind_ctop_fin_ult1|ind_ctpp_fin_ult1|ind_deco_fin_ult1|ind_deme_fin_ult1|ind_dela_fin_ult1|ind_ecue_fin_ult1|ind_fond_fin_ult1|ind_hip_fin_ult1|ind_plan_fin_ult1|ind_pres_fin_ult1|ind_reca_fin_ult1|ind_tjcr_fin_ult1|ind_valo_fin_ult1|ind_viv_fin_ult1|ind_nomina_ult1|ind_nom_pens_ult1|ind_recibo_ult1|\n",
            "+-------------------+---------+------------+---------------+----+---+-------------------+---------+----------+------+--------------+-----------+-----------+-------+------+--------+-------------+-------+-------+--------+-----------+---------------------+------------------+------------------+-----------------+-----------------+----------------+-----------------+----------------+-----------------+-----------------+-----------------+-----------------+-----------------+-----------------+-----------------+-----------------+-----------------+----------------+-----------------+-----------------+-----------------+-----------------+-----------------+----------------+---------------+-----------------+---------------+\n",
            "|2015-01-28 00:00:00|1375586.0|           N|             ES|   H| 35|2015-01-12 00:00:00|        0|         6|     1|          null|        1.0|          A|      S|     N|    null|          KHL|      N|      1|      29|     MALAGA|                    1|           87218.1| 02 - PARTICULARES|                0|                0|               1|                0|               0|                0|                0|                0|                0|                0|                0|                0|                0|                0|               0|                0|                0|                0|                0|                0|               0|              0|                0|              0|\n",
            "|2015-01-28 00:00:00|1050611.0|           N|             ES|   V| 23|2012-08-10 00:00:00|        0|        35|     1|          null|          1|          I|      S|     S|    null|          KHE|      N|      1|      13|CIUDAD REAL|                    0|          35548.74|03 - UNIVERSITARIO|                0|                0|               1|                0|               0|                0|                0|                0|                0|                0|                0|                0|                0|                0|               0|                0|                0|                0|                0|                0|               0|              0|                0|              0|\n",
            "|2015-01-28 00:00:00|1050612.0|           N|             ES|   V| 23|2012-08-10 00:00:00|        0|        35|     1|          null|          1|          I|      S|     N|    null|          KHE|      N|      1|      13|CIUDAD REAL|                    0|122179.11000000002|03 - UNIVERSITARIO|                0|                0|               1|                0|               0|                0|                0|                0|                0|                0|                0|                0|                0|                0|               0|                0|                0|                0|                0|                0|               0|              0|                0|              0|\n",
            "|2015-01-28 00:00:00|1050613.0|           N|             ES|   H| 22|2012-08-10 00:00:00|        0|        35|     1|          null|          1|          I|      S|     N|    null|          KHD|      N|      1|      50|   ZARAGOZA|                    0|         119775.54|03 - UNIVERSITARIO|                0|                0|               0|                0|               0|                0|                0|                0|                0|                1|                0|                0|                0|                0|               0|                0|                0|                0|                0|                0|               0|              0|                0|              0|\n",
            "|2015-01-28 00:00:00|1050614.0|           N|             ES|   V| 23|2012-08-10 00:00:00|        0|        35|     1|          null|          1|          A|      S|     N|    null|          KHE|      N|      1|      50|   ZARAGOZA|                    1|              null|03 - UNIVERSITARIO|                0|                0|               1|                0|               0|                0|                0|                0|                0|                0|                0|                0|                0|                0|               0|                0|                0|                0|                0|                0|               0|              0|                0|              0|\n",
            "|2015-01-28 00:00:00|1050615.0|           N|             ES|   H| 23|2012-08-10 00:00:00|        0|        35|     1|          null|          1|          I|      S|     N|    null|          KHE|      N|      1|      45|     TOLEDO|                    0|          22220.04|03 - UNIVERSITARIO|                0|                0|               1|                0|               0|                0|                0|                0|                0|                0|                0|                0|                0|                0|               0|                0|                0|                0|                0|                0|               0|              0|                0|              0|\n",
            "|2015-01-28 00:00:00|1050616.0|           N|             ES|   H| 23|2012-08-10 00:00:00|        0|        35|     1|          null|          1|          I|      S|     N|    null|          KHE|      N|      1|      24|       LEON|                    0|         295590.36|03 - UNIVERSITARIO|                0|                0|               1|                0|               0|                0|                0|                0|                0|                0|                0|                0|                0|                0|               0|                0|                0|                0|                0|                0|               0|              0|                0|              0|\n",
            "|2015-01-28 00:00:00|1050617.0|           N|             ES|   H| 23|2012-08-10 00:00:00|        0|        35|     1|          null|          1|          A|      S|     N|    null|          KHE|      N|      1|      50|   ZARAGOZA|                    1|         113316.66|03 - UNIVERSITARIO|                0|                0|               1|                0|               0|                0|                0|                0|                0|                0|                0|                0|                0|                0|               0|                0|                0|                0|                0|                0|               0|              0|                0|              0|\n",
            "|2015-01-28 00:00:00|1050619.0|           N|             ES|   H| 24|2012-08-10 00:00:00|        0|        35|     1|          null|          1|          I|      S|     N|    null|          KHE|      N|      1|      20|   GIPUZKOA|                    0|              null|03 - UNIVERSITARIO|                0|                0|               1|                0|               0|                0|                0|                0|                0|                0|                0|                0|                0|                0|               0|                0|                0|                0|                0|                0|               0|              0|                0|              0|\n",
            "|2015-01-28 00:00:00|1050620.0|           N|             ES|   H| 23|2012-08-10 00:00:00|        0|        35|     1|          null|          1|          I|      S|     N|    null|          KHE|      N|      1|      10|    CACERES|                    0|         113194.98|03 - UNIVERSITARIO|                0|                0|               1|                0|               0|                0|                0|                0|                0|                0|                0|                0|                0|                0|               0|                0|                0|                0|                0|                0|               0|              0|                0|              0|\n",
            "|2015-01-28 00:00:00|1050621.0|           N|             ES|   V| 23|2012-08-10 00:00:00|        0|        35|     1|          null|          1|          I|      S|     N|    null|          KHE|      N|      1|      50|   ZARAGOZA|                    0|          72575.88|03 - UNIVERSITARIO|                0|                0|               1|                0|               0|                0|                0|                0|                0|                0|                0|                0|                0|                0|               0|                0|                0|                0|                0|                0|               0|              0|                0|              0|\n",
            "|2015-01-28 00:00:00|1050622.0|           N|             ES|   H| 23|2012-08-10 00:00:00|        0|        35|     1|          null|          1|          I|      S|     N|    null|          KHE|      N|      1|      17|     GIRONA|                    0|              null|03 - UNIVERSITARIO|                0|                0|               1|                0|               0|                0|                0|                0|                0|                0|                0|                0|                0|                0|               0|                0|                0|                0|                0|                0|               0|              0|                0|              0|\n",
            "|2015-01-28 00:00:00|1050623.0|           N|             ES|   H| 23|2012-08-10 00:00:00|        0|        35|     1|          null|          1|          A|      S|     N|    null|          KHE|      N|      1|      49|     ZAMORA|                    1|         113538.81|03 - UNIVERSITARIO|                0|                0|               1|                0|               0|                0|                0|                0|                0|                0|                0|                0|                0|                0|               0|                0|                0|                0|                0|                0|               0|              0|                0|              0|\n",
            "|2015-01-28 00:00:00|1050624.0|           N|             ES|   H| 65|2012-08-10 00:00:00|        0|        35|     1|          null|          1|          A|      S|     N|    null|          KHE|      N|      1|      50|   ZARAGOZA|                    1|          61605.09| 02 - PARTICULARES|                0|                0|               1|                0|               0|                0|                0|                0|                0|                0|                0|                0|                0|                0|               0|                0|                0|                0|                0|                0|               0|              0|                0|              0|\n",
            "|2015-01-28 00:00:00|1050625.0|           N|             ES|   V| 23|2012-08-10 00:00:00|        0|        35|     1|          null|          1|          A|      S|     N|    null|          KHE|      N|      1|      49|     ZAMORA|                    1|              null|03 - UNIVERSITARIO|                0|                0|               1|                0|               0|                0|                0|                0|                0|                0|                0|                0|                0|                0|               0|                0|                0|                0|                0|                0|               0|              0|                0|              0|\n",
            "|2015-01-28 00:00:00|1050626.0|           N|             ES|   V| 23|2012-08-10 00:00:00|        0|        35|     1|          null|          1|          A|      S|     N|    null|          KHE|      N|      1|       8|  BARCELONA|                    1|              null|03 - UNIVERSITARIO|                0|                0|               1|                0|               0|                0|                0|                0|                0|                0|                0|                0|                0|                0|               0|                0|                0|                0|                0|                0|               0|              0|                0|              0|\n",
            "|2015-01-28 00:00:00|1050610.0|           N|             ES|   V| 24|2012-08-10 00:00:00|        0|        35|     1|          null|          1|          I|      S|     N|    null|          KHE|      N|      1|      37|  SALAMANCA|                    1| 68318.45999999999|03 - UNIVERSITARIO|                0|                0|               1|                0|               0|                0|                0|                0|                0|                0|                0|                0|                0|                0|               0|                0|                0|                0|                0|                0|               0|              0|                0|              0|\n",
            "|2015-01-28 00:00:00|1050627.0|           N|             ES|   H| 23|2012-08-10 00:00:00|        0|        35|     1|          null|          1|          I|      S|     N|    null|          KHE|      N|      1|      13|CIUDAD REAL|                    0|          65608.35|03 - UNIVERSITARIO|                0|                0|               1|                0|               0|                0|                0|                0|                0|                0|                0|                0|                0|                0|               0|                0|                0|                0|                0|                0|               0|              0|                0|              0|\n",
            "|2015-01-28 00:00:00|1050609.0|           N|             ES|   H| 22|2012-08-10 00:00:00|        0|        35|     1|          null|          1|          I|      S|     N|    null|          KFA|      N|      1|      13|CIUDAD REAL|                    1|          73432.47|03 - UNIVERSITARIO|                0|                0|               1|                0|               0|                0|                0|                0|                0|                0|                0|                0|                0|                0|               0|                0|                0|                0|                0|                0|               0|              0|                0|              0|\n",
            "|2015-01-28 00:00:00|1050605.0|           N|             ES|   V| 23|2012-08-10 00:00:00|        0|        35|     1|          null|          1|          I|      S|     N|    null|          KHE|      N|      1|      45|     TOLEDO|                    0|              null|03 - UNIVERSITARIO|                0|                0|               1|                0|               0|                0|                0|                0|                0|                0|                0|                0|                0|                0|               0|                0|                0|                0|                0|                0|               0|              0|                0|              0|\n",
            "+-------------------+---------+------------+---------------+----+---+-------------------+---------+----------+------+--------------+-----------+-----------+-------+------+--------+-------------+-------+-------+--------+-----------+---------------------+------------------+------------------+-----------------+-----------------+----------------+-----------------+----------------+-----------------+-----------------+-----------------+-----------------+-----------------+-----------------+-----------------+-----------------+-----------------+----------------+-----------------+-----------------+-----------------+-----------------+-----------------+----------------+---------------+-----------------+---------------+\n",
            "only showing top 20 rows\n",
            "\n"
          ]
        }
      ]
    }
  ]
}