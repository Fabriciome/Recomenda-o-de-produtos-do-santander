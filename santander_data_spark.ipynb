{
  "nbformat": 4,
  "nbformat_minor": 0,
  "metadata": {
    "colab": {
      "name": "santander_data_spark.ipynb",
      "provenance": [],
      "mount_file_id": "1zbpiuNagG_gxmDs9PjYiL9uqQXvEDQbm",
      "authorship_tag": "ABX9TyN2zCDm+vqbyHSqBomuIyEE"
    },
    "kernelspec": {
      "name": "python3",
      "display_name": "Python 3"
    },
    "language_info": {
      "name": "python"
    }
  },
  "cells": [
    {
      "cell_type": "code",
      "source": [
        "!pip install pyspark"
      ],
      "metadata": {
        "colab": {
          "base_uri": "https://localhost:8080/"
        },
        "id": "DxGxt_2pZYQC",
        "outputId": "53417edc-0453-4f6f-ba60-2606fdae4169"
      },
      "execution_count": 1,
      "outputs": [
        {
          "output_type": "stream",
          "name": "stdout",
          "text": [
            "Looking in indexes: https://pypi.org/simple, https://us-python.pkg.dev/colab-wheels/public/simple/\n",
            "Requirement already satisfied: pyspark in /usr/local/lib/python3.7/dist-packages (3.3.0)\n",
            "Requirement already satisfied: py4j==0.10.9.5 in /usr/local/lib/python3.7/dist-packages (from pyspark) (0.10.9.5)\n"
          ]
        }
      ]
    },
    {
      "cell_type": "code",
      "source": [
        "!apt-get install openjdk-8-jdk-headless -qq > /dev/null"
      ],
      "metadata": {
        "id": "rh605-iWj62Z"
      },
      "execution_count": 2,
      "outputs": []
    },
    {
      "cell_type": "code",
      "source": [
        "!wget -q https://archive.apache.org/dist/spark/spark-3.1.2/spark-3.1.2-bin-hadoop2.7.tgz"
      ],
      "metadata": {
        "id": "yaiEq8FQj_7K"
      },
      "execution_count": 3,
      "outputs": []
    },
    {
      "cell_type": "code",
      "source": [
        "!tar xf spark-3.1.2-bin-hadoop2.7.tgz"
      ],
      "metadata": {
        "id": "XBkAiLBLkDRT"
      },
      "execution_count": 4,
      "outputs": []
    },
    {
      "cell_type": "code",
      "source": [
        "import os\n",
        "\n",
        "# Definindo a variável de ambiente do Java\n",
        "os.environ[\"JAVA_HOME\"] = \"/usr/lib/jvm/java-8-openjdk-amd64\"\n",
        "\n",
        "# Definindo a variável de ambiente do Spark\n",
        "os.environ[\"SPARK_HOME\"] = \"/content/spark-3.1.2-bin-hadoop2.7\""
      ],
      "metadata": {
        "id": "xEkHSoHxkHQS"
      },
      "execution_count": 5,
      "outputs": []
    },
    {
      "cell_type": "code",
      "source": [
        "# instalando a findspark\n",
        "!pip install -q findspark"
      ],
      "metadata": {
        "id": "5G2yNQHHkJnp"
      },
      "execution_count": 6,
      "outputs": []
    },
    {
      "cell_type": "code",
      "source": [
        "# Importando a findspark\n",
        "import findspark\n",
        "\n",
        "# Iniciando o findspark\n",
        "findspark.init()"
      ],
      "metadata": {
        "id": "AKvCpruTkN0p"
      },
      "execution_count": 7,
      "outputs": []
    },
    {
      "cell_type": "code",
      "source": [
        "\n",
        "# importando o pacote necessário para iniciar uma seção Spark\n",
        "from pyspark.sql import SparkSession\n",
        "\n",
        "# iniciando o spark context\n",
        "spark = SparkSession.builder.master('local[*]').getOrCreate()\n",
        "\n",
        "# Verificando se a sessão foi criada\n",
        "spark"
      ],
      "metadata": {
        "colab": {
          "base_uri": "https://localhost:8080/",
          "height": 219
        },
        "id": "nlZHkCAbkRIq",
        "outputId": "20cf022b-1627-442a-f711-c91336122c15"
      },
      "execution_count": 8,
      "outputs": [
        {
          "output_type": "execute_result",
          "data": {
            "text/plain": [
              "<pyspark.sql.session.SparkSession at 0x7f33d6acc6d0>"
            ],
            "text/html": [
              "\n",
              "            <div>\n",
              "                <p><b>SparkSession - in-memory</b></p>\n",
              "                \n",
              "        <div>\n",
              "            <p><b>SparkContext</b></p>\n",
              "\n",
              "            <p><a href=\"http://a4f2710e0723:4040\">Spark UI</a></p>\n",
              "\n",
              "            <dl>\n",
              "              <dt>Version</dt>\n",
              "                <dd><code>v3.1.2</code></dd>\n",
              "              <dt>Master</dt>\n",
              "                <dd><code>local[*]</code></dd>\n",
              "              <dt>AppName</dt>\n",
              "                <dd><code>pyspark-shell</code></dd>\n",
              "            </dl>\n",
              "        </div>\n",
              "        \n",
              "            </div>\n",
              "        "
            ]
          },
          "metadata": {},
          "execution_count": 8
        }
      ]
    },
    {
      "cell_type": "code",
      "source": [
        "df_train = spark.read.format(\"csv\")\\\n",
        ".option(\"header\", \"True\")\\\n",
        ".option(\"inferSchema\",\"True\")\\\n",
        ".load(\"/content/drive/MyDrive/Colab Notebooks/basest/train_ver2.csv\")"
      ],
      "metadata": {
        "id": "xBGS5meFnSjN"
      },
      "execution_count": 9,
      "outputs": []
    },
    {
      "cell_type": "code",
      "source": [
        "df_train"
      ],
      "metadata": {
        "colab": {
          "base_uri": "https://localhost:8080/"
        },
        "id": "C_07WTD8qeMl",
        "outputId": "755ca3d3-048d-44ad-9fdb-e93ee38fa7af"
      },
      "execution_count": 10,
      "outputs": [
        {
          "output_type": "execute_result",
          "data": {
            "text/plain": [
              "DataFrame[fecha_dato: string, ncodpers: double, ind_empleado: string, pais_residencia: string, sexo: string, age: string, fecha_alta: string, ind_nuevo: string, antiguedad: string, indrel: string, ult_fec_cli_1t: string, indrel_1mes: string, tiprel_1mes: string, indresi: string, indext: string, conyuemp: string, canal_entrada: string, indfall: string, tipodom: string, cod_prov: string, nomprov: string, ind_actividad_cliente: string, renta: double, segmento: string, ind_ahor_fin_ult1: int, ind_aval_fin_ult1: int, ind_cco_fin_ult1: int, ind_cder_fin_ult1: int, ind_cno_fin_ult1: int, ind_ctju_fin_ult1: int, ind_ctma_fin_ult1: int, ind_ctop_fin_ult1: int, ind_ctpp_fin_ult1: int, ind_deco_fin_ult1: int, ind_deme_fin_ult1: int, ind_dela_fin_ult1: int, ind_ecue_fin_ult1: int, ind_fond_fin_ult1: int, ind_hip_fin_ult1: int, ind_plan_fin_ult1: int, ind_pres_fin_ult1: int, ind_reca_fin_ult1: int, ind_tjcr_fin_ult1: int, ind_valo_fin_ult1: int, ind_viv_fin_ult1: int, ind_nomina_ult1: string, ind_nom_pens_ult1: string, ind_recibo_ult1: int]"
            ]
          },
          "metadata": {},
          "execution_count": 10
        }
      ]
    },
    {
      "cell_type": "code",
      "source": [
        "df_train.printSchema()"
      ],
      "metadata": {
        "colab": {
          "base_uri": "https://localhost:8080/"
        },
        "id": "w3wmcOIkr0Dl",
        "outputId": "feba1df9-bcfe-473d-9fb7-ed0a697c90a9"
      },
      "execution_count": 22,
      "outputs": [
        {
          "output_type": "stream",
          "name": "stdout",
          "text": [
            "root\n",
            " |-- fecha_dato: string (nullable = true)\n",
            " |-- ncodpers: double (nullable = true)\n",
            " |-- ind_empleado: string (nullable = true)\n",
            " |-- pais_residencia: string (nullable = true)\n",
            " |-- sexo: string (nullable = true)\n",
            " |-- age: integer (nullable = true)\n",
            " |-- fecha_alta: string (nullable = true)\n",
            " |-- ind_nuevo: string (nullable = true)\n",
            " |-- antiguedad: string (nullable = true)\n",
            " |-- indrel: string (nullable = true)\n",
            " |-- indrel_1mes: string (nullable = true)\n",
            " |-- tiprel_1mes: string (nullable = true)\n",
            " |-- indresi: string (nullable = true)\n",
            " |-- indext: string (nullable = true)\n",
            " |-- canal_entrada: string (nullable = true)\n",
            " |-- indfall: string (nullable = true)\n",
            " |-- tipodom: string (nullable = true)\n",
            " |-- cod_prov: string (nullable = true)\n",
            " |-- nomprov: string (nullable = true)\n",
            " |-- ind_actividad_cliente: string (nullable = true)\n",
            " |-- renta: double (nullable = true)\n",
            " |-- segmento: string (nullable = true)\n",
            " |-- ind_ahor_fin_ult1: integer (nullable = true)\n",
            " |-- ind_aval_fin_ult1: integer (nullable = true)\n",
            " |-- ind_cco_fin_ult1: integer (nullable = true)\n",
            " |-- ind_cder_fin_ult1: integer (nullable = true)\n",
            " |-- ind_cno_fin_ult1: integer (nullable = true)\n",
            " |-- ind_ctju_fin_ult1: integer (nullable = true)\n",
            " |-- ind_ctma_fin_ult1: integer (nullable = true)\n",
            " |-- ind_ctop_fin_ult1: integer (nullable = true)\n",
            " |-- ind_ctpp_fin_ult1: integer (nullable = true)\n",
            " |-- ind_deco_fin_ult1: integer (nullable = true)\n",
            " |-- ind_deme_fin_ult1: integer (nullable = true)\n",
            " |-- ind_dela_fin_ult1: integer (nullable = true)\n",
            " |-- ind_ecue_fin_ult1: integer (nullable = true)\n",
            " |-- ind_fond_fin_ult1: integer (nullable = true)\n",
            " |-- ind_hip_fin_ult1: integer (nullable = true)\n",
            " |-- ind_plan_fin_ult1: integer (nullable = true)\n",
            " |-- ind_pres_fin_ult1: integer (nullable = true)\n",
            " |-- ind_reca_fin_ult1: integer (nullable = true)\n",
            " |-- ind_tjcr_fin_ult1: integer (nullable = true)\n",
            " |-- ind_valo_fin_ult1: integer (nullable = true)\n",
            " |-- ind_viv_fin_ult1: integer (nullable = true)\n",
            " |-- ind_nomina_ult1: string (nullable = true)\n",
            " |-- ind_nom_pens_ult1: string (nullable = true)\n",
            " |-- ind_recibo_ult1: integer (nullable = true)\n",
            "\n"
          ]
        }
      ]
    },
    {
      "cell_type": "code",
      "source": [
        "from pyspark.sql.functions import *"
      ],
      "metadata": {
        "id": "g4xxRM902aax"
      },
      "execution_count": 16,
      "outputs": []
    },
    {
      "cell_type": "code",
      "source": [
        "df_train = df_train.withColumn(\n",
        "    colName = 'age', \n",
        "    col = regexp_replace('age',',','.').cast('int')\n",
        "    )\n",
        "\n",
        "# Inspecionando o resultado\n",
        "df_train.select('age').printSchema()"
      ],
      "metadata": {
        "colab": {
          "base_uri": "https://localhost:8080/"
        },
        "id": "TI8zRbsh2FZp",
        "outputId": "8feedc1b-d907-400d-b898-97db6eee09cf"
      },
      "execution_count": 21,
      "outputs": [
        {
          "output_type": "stream",
          "name": "stdout",
          "text": [
            "root\n",
            " |-- age: integer (nullable = true)\n",
            "\n"
          ]
        }
      ]
    },
    {
      "cell_type": "code",
      "source": [
        "df_train=df_train.drop('conyuemp')"
      ],
      "metadata": {
        "id": "VmKB1CL4sBGt"
      },
      "execution_count": 12,
      "outputs": []
    },
    {
      "cell_type": "code",
      "source": [
        "df_train=df_train.drop('ult_fec_cli_1t')"
      ],
      "metadata": {
        "id": "ab5gJ-yjsKpm"
      },
      "execution_count": 13,
      "outputs": []
    },
    {
      "cell_type": "code",
      "source": [
        "df_train.show(10)"
      ],
      "metadata": {
        "id": "zc2yi7Oosp3d",
        "colab": {
          "base_uri": "https://localhost:8080/"
        },
        "outputId": "9ba6c586-dad5-4550-bab8-814eac8d43c2"
      },
      "execution_count": 23,
      "outputs": [
        {
          "output_type": "stream",
          "name": "stdout",
          "text": [
            "+----------+---------+------------+---------------+----+---+----------+---------+----------+------+-----------+-----------+-------+------+-------------+-------+-------+--------+-----------+---------------------+------------------+------------------+-----------------+-----------------+----------------+-----------------+----------------+-----------------+-----------------+-----------------+-----------------+-----------------+-----------------+-----------------+-----------------+-----------------+----------------+-----------------+-----------------+-----------------+-----------------+-----------------+----------------+---------------+-----------------+---------------+\n",
            "|fecha_dato| ncodpers|ind_empleado|pais_residencia|sexo|age|fecha_alta|ind_nuevo|antiguedad|indrel|indrel_1mes|tiprel_1mes|indresi|indext|canal_entrada|indfall|tipodom|cod_prov|    nomprov|ind_actividad_cliente|             renta|          segmento|ind_ahor_fin_ult1|ind_aval_fin_ult1|ind_cco_fin_ult1|ind_cder_fin_ult1|ind_cno_fin_ult1|ind_ctju_fin_ult1|ind_ctma_fin_ult1|ind_ctop_fin_ult1|ind_ctpp_fin_ult1|ind_deco_fin_ult1|ind_deme_fin_ult1|ind_dela_fin_ult1|ind_ecue_fin_ult1|ind_fond_fin_ult1|ind_hip_fin_ult1|ind_plan_fin_ult1|ind_pres_fin_ult1|ind_reca_fin_ult1|ind_tjcr_fin_ult1|ind_valo_fin_ult1|ind_viv_fin_ult1|ind_nomina_ult1|ind_nom_pens_ult1|ind_recibo_ult1|\n",
            "+----------+---------+------------+---------------+----+---+----------+---------+----------+------+-----------+-----------+-------+------+-------------+-------+-------+--------+-----------+---------------------+------------------+------------------+-----------------+-----------------+----------------+-----------------+----------------+-----------------+-----------------+-----------------+-----------------+-----------------+-----------------+-----------------+-----------------+-----------------+----------------+-----------------+-----------------+-----------------+-----------------+-----------------+----------------+---------------+-----------------+---------------+\n",
            "|2015-01-28|1375586.0|           N|             ES|   H| 35|2015-01-12|        0|         6|     1|        1.0|          A|      S|     N|          KHL|      N|      1|      29|     MALAGA|                    1|           87218.1| 02 - PARTICULARES|                0|                0|               1|                0|               0|                0|                0|                0|                0|                0|                0|                0|                0|                0|               0|                0|                0|                0|                0|                0|               0|              0|                0|              0|\n",
            "|2015-01-28|1050611.0|           N|             ES|   V| 23|2012-08-10|        0|        35|     1|          1|          I|      S|     S|          KHE|      N|      1|      13|CIUDAD REAL|                    0|          35548.74|03 - UNIVERSITARIO|                0|                0|               1|                0|               0|                0|                0|                0|                0|                0|                0|                0|                0|                0|               0|                0|                0|                0|                0|                0|               0|              0|                0|              0|\n",
            "|2015-01-28|1050612.0|           N|             ES|   V| 23|2012-08-10|        0|        35|     1|          1|          I|      S|     N|          KHE|      N|      1|      13|CIUDAD REAL|                    0|122179.11000000002|03 - UNIVERSITARIO|                0|                0|               1|                0|               0|                0|                0|                0|                0|                0|                0|                0|                0|                0|               0|                0|                0|                0|                0|                0|               0|              0|                0|              0|\n",
            "|2015-01-28|1050613.0|           N|             ES|   H| 22|2012-08-10|        0|        35|     1|          1|          I|      S|     N|          KHD|      N|      1|      50|   ZARAGOZA|                    0|         119775.54|03 - UNIVERSITARIO|                0|                0|               0|                0|               0|                0|                0|                0|                0|                1|                0|                0|                0|                0|               0|                0|                0|                0|                0|                0|               0|              0|                0|              0|\n",
            "|2015-01-28|1050614.0|           N|             ES|   V| 23|2012-08-10|        0|        35|     1|          1|          A|      S|     N|          KHE|      N|      1|      50|   ZARAGOZA|                    1|              null|03 - UNIVERSITARIO|                0|                0|               1|                0|               0|                0|                0|                0|                0|                0|                0|                0|                0|                0|               0|                0|                0|                0|                0|                0|               0|              0|                0|              0|\n",
            "|2015-01-28|1050615.0|           N|             ES|   H| 23|2012-08-10|        0|        35|     1|          1|          I|      S|     N|          KHE|      N|      1|      45|     TOLEDO|                    0|          22220.04|03 - UNIVERSITARIO|                0|                0|               1|                0|               0|                0|                0|                0|                0|                0|                0|                0|                0|                0|               0|                0|                0|                0|                0|                0|               0|              0|                0|              0|\n",
            "|2015-01-28|1050616.0|           N|             ES|   H| 23|2012-08-10|        0|        35|     1|          1|          I|      S|     N|          KHE|      N|      1|      24|       LEON|                    0|         295590.36|03 - UNIVERSITARIO|                0|                0|               1|                0|               0|                0|                0|                0|                0|                0|                0|                0|                0|                0|               0|                0|                0|                0|                0|                0|               0|              0|                0|              0|\n",
            "|2015-01-28|1050617.0|           N|             ES|   H| 23|2012-08-10|        0|        35|     1|          1|          A|      S|     N|          KHE|      N|      1|      50|   ZARAGOZA|                    1|         113316.66|03 - UNIVERSITARIO|                0|                0|               1|                0|               0|                0|                0|                0|                0|                0|                0|                0|                0|                0|               0|                0|                0|                0|                0|                0|               0|              0|                0|              0|\n",
            "|2015-01-28|1050619.0|           N|             ES|   H| 24|2012-08-10|        0|        35|     1|          1|          I|      S|     N|          KHE|      N|      1|      20|   GIPUZKOA|                    0|              null|03 - UNIVERSITARIO|                0|                0|               1|                0|               0|                0|                0|                0|                0|                0|                0|                0|                0|                0|               0|                0|                0|                0|                0|                0|               0|              0|                0|              0|\n",
            "|2015-01-28|1050620.0|           N|             ES|   H| 23|2012-08-10|        0|        35|     1|          1|          I|      S|     N|          KHE|      N|      1|      10|    CACERES|                    0|         113194.98|03 - UNIVERSITARIO|                0|                0|               1|                0|               0|                0|                0|                0|                0|                0|                0|                0|                0|                0|               0|                0|                0|                0|                0|                0|               0|              0|                0|              0|\n",
            "+----------+---------+------------+---------------+----+---+----------+---------+----------+------+-----------+-----------+-------+------+-------------+-------+-------+--------+-----------+---------------------+------------------+------------------+-----------------+-----------------+----------------+-----------------+----------------+-----------------+-----------------+-----------------+-----------------+-----------------+-----------------+-----------------+-----------------+-----------------+----------------+-----------------+-----------------+-----------------+-----------------+-----------------+----------------+---------------+-----------------+---------------+\n",
            "only showing top 10 rows\n",
            "\n"
          ]
        }
      ]
    },
    {
      "cell_type": "code",
      "source": [
        "df_train.groupBy(\"segmento\").avg(\"age\").show()"
      ],
      "metadata": {
        "id": "bq3Ae-GFzxAY"
      },
      "execution_count": null,
      "outputs": []
    }
  ]
}